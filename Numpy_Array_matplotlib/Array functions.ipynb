{
 "cells": [
  {
   "cell_type": "code",
   "execution_count": 1,
   "metadata": {},
   "outputs": [],
   "source": [
    "%matplotlib inline\n",
    "import numpy as np\n",
    "import matplotlib.pyplot as plt"
   ]
  },
  {
   "cell_type": "code",
   "execution_count": 5,
   "metadata": {},
   "outputs": [
    {
     "data": {
      "text/plain": [
       "array([ 0.15668239, -0.19045971,  0.31054998,  1.48951866, -0.49010425,\n",
       "        0.17317526, -1.48176046,  1.06180987,  0.88854707,  0.40721358,\n",
       "        0.42222679,  0.20703818,  0.85731995, -0.54775211, -0.67171344,\n",
       "        0.31327893, -0.20219871, -1.24707426, -1.69897901,  0.55566621,\n",
       "        0.90012676,  0.09852658, -1.22475433,  0.97061386,  1.87758275,\n",
       "       -0.21545141,  0.15554696,  0.63300095, -0.32688797,  0.10160049,\n",
       "       -0.51275704,  0.17271975, -0.90319495,  0.40121919,  1.06546913,\n",
       "       -0.1448    , -0.28587979,  0.97097803, -0.96691993,  1.62639238,\n",
       "        0.65490127,  0.62529182, -0.33632136,  1.03690493, -0.50476623,\n",
       "        1.94954115,  0.3733245 ,  0.41672684, -1.9302349 , -1.97228892,\n",
       "        0.59029046,  0.60938278,  0.38253923,  1.39062193, -1.6646117 ,\n",
       "       -1.30991769,  0.93221577, -0.60041378,  0.05770522, -1.47785669,\n",
       "       -1.82764164, -1.04332351, -2.12625543, -1.61486683, -0.48290065,\n",
       "        1.25444181,  0.20415849, -0.32822036,  0.35589772, -0.73000482,\n",
       "       -0.25553689,  0.92139492,  0.93336969,  0.33880207, -0.82451852,\n",
       "        0.17524388,  1.86119138,  0.75823413,  0.70644146, -1.56913783,\n",
       "        0.38409465, -2.49896248, -0.99906574,  2.08979665, -0.69813173,\n",
       "        2.28605279, -0.36829977, -2.02693998, -0.98551342,  0.01452253,\n",
       "       -1.90362574, -0.09887034,  0.15606228, -0.95967604,  1.49071417,\n",
       "       -0.44610118, -1.73726016, -1.95788009, -1.27339973,  0.55299221])"
      ]
     },
     "execution_count": 5,
     "metadata": {},
     "output_type": "execute_result"
    }
   ],
   "source": [
    "A = np.random.randn(100)\n",
    "A"
   ]
  },
  {
   "cell_type": "code",
   "execution_count": 7,
   "metadata": {},
   "outputs": [
    {
     "data": {
      "text/plain": [
       "array([565.66823929, 530.95402921, 581.05499773, 698.95186561,\n",
       "       500.98957517, 567.31752596, 401.82395386, 656.18098676,\n",
       "       638.85470684, 590.72135809, 592.22267927, 570.70381847,\n",
       "       635.7319945 , 495.2247892 , 482.8286559 , 581.32789251,\n",
       "       529.78012871, 425.29257444, 380.10209937, 605.56662106,\n",
       "       640.01267609, 559.85265776, 427.52456738, 647.06138588,\n",
       "       737.75827526, 528.45485889, 565.55469609, 613.3000952 ,\n",
       "       517.31120338, 560.16004855, 498.72429596, 567.27197454,\n",
       "       459.68050529, 590.12191894, 656.54691326, 535.52000018,\n",
       "       521.4120209 , 647.09780303, 453.30800738, 712.63923786,\n",
       "       615.49012664, 612.52918202, 516.36786444, 653.69049266,\n",
       "       499.52337717, 744.95411511, 587.33245   , 591.67268415,\n",
       "       356.97650972, 352.77110819, 609.02904618, 610.9382779 ,\n",
       "       588.25392313, 689.06219279, 383.53882984, 419.00823141,\n",
       "       643.22157678, 489.95862245, 555.77052238, 402.21433143,\n",
       "       367.23583553, 445.66764916, 337.37445746, 388.51331683,\n",
       "       501.70993549, 675.44418115, 570.41584877, 517.17796439,\n",
       "       585.58977191, 476.99951796, 524.44631075, 642.13949224,\n",
       "       643.33696914, 583.8802072 , 467.54814761, 567.52438764,\n",
       "       736.11913808, 625.8234129 , 620.64414591, 393.08621678,\n",
       "       588.4094648 , 300.10375202, 450.09342578, 758.97966521,\n",
       "       480.18682659, 778.60527914, 513.17002312, 347.30600204,\n",
       "       451.44865788, 551.45225266, 359.63742591, 540.11296551,\n",
       "       565.60622759, 454.03239603, 699.07141688, 505.38988176,\n",
       "       376.27398354, 354.2119906 , 422.66002749, 605.29922052])"
      ]
     },
     "execution_count": 7,
     "metadata": {},
     "output_type": "execute_result"
    }
   ],
   "source": [
    "A = 10 * A + 50\n",
    "A"
   ]
  },
  {
   "cell_type": "code",
   "execution_count": 8,
   "metadata": {},
   "outputs": [
    {
     "data": {
      "text/plain": [
       "(100,)"
      ]
     },
     "execution_count": 8,
     "metadata": {},
     "output_type": "execute_result"
    }
   ],
   "source": [
    "A.shape"
   ]
  },
  {
   "cell_type": "code",
   "execution_count": 11,
   "metadata": {},
   "outputs": [
    {
     "data": {
      "text/plain": [
       "array([[565.66823929, 530.95402921, 581.05499773, 698.95186561,\n",
       "        500.98957517, 567.31752596, 401.82395386, 656.18098676,\n",
       "        638.85470684, 590.72135809, 592.22267927, 570.70381847,\n",
       "        635.7319945 , 495.2247892 , 482.8286559 , 581.32789251,\n",
       "        529.78012871, 425.29257444, 380.10209937, 605.56662106],\n",
       "       [640.01267609, 559.85265776, 427.52456738, 647.06138588,\n",
       "        737.75827526, 528.45485889, 565.55469609, 613.3000952 ,\n",
       "        517.31120338, 560.16004855, 498.72429596, 567.27197454,\n",
       "        459.68050529, 590.12191894, 656.54691326, 535.52000018,\n",
       "        521.4120209 , 647.09780303, 453.30800738, 712.63923786],\n",
       "       [615.49012664, 612.52918202, 516.36786444, 653.69049266,\n",
       "        499.52337717, 744.95411511, 587.33245   , 591.67268415,\n",
       "        356.97650972, 352.77110819, 609.02904618, 610.9382779 ,\n",
       "        588.25392313, 689.06219279, 383.53882984, 419.00823141,\n",
       "        643.22157678, 489.95862245, 555.77052238, 402.21433143],\n",
       "       [367.23583553, 445.66764916, 337.37445746, 388.51331683,\n",
       "        501.70993549, 675.44418115, 570.41584877, 517.17796439,\n",
       "        585.58977191, 476.99951796, 524.44631075, 642.13949224,\n",
       "        643.33696914, 583.8802072 , 467.54814761, 567.52438764,\n",
       "        736.11913808, 625.8234129 , 620.64414591, 393.08621678],\n",
       "       [588.4094648 , 300.10375202, 450.09342578, 758.97966521,\n",
       "        480.18682659, 778.60527914, 513.17002312, 347.30600204,\n",
       "        451.44865788, 551.45225266, 359.63742591, 540.11296551,\n",
       "        565.60622759, 454.03239603, 699.07141688, 505.38988176,\n",
       "        376.27398354, 354.2119906 , 422.66002749, 605.29922052]])"
      ]
     },
     "execution_count": 11,
     "metadata": {},
     "output_type": "execute_result"
    }
   ],
   "source": [
    "A.shape = (5,20)\n",
    "A"
   ]
  },
  {
   "cell_type": "code",
   "execution_count": 13,
   "metadata": {},
   "outputs": [
    {
     "data": {
      "text/plain": [
       "array([[565.66823929],\n",
       "       [530.95402921],\n",
       "       [581.05499773],\n",
       "       [698.95186561],\n",
       "       [500.98957517],\n",
       "       [567.31752596],\n",
       "       [401.82395386],\n",
       "       [656.18098676],\n",
       "       [638.85470684],\n",
       "       [590.72135809],\n",
       "       [592.22267927],\n",
       "       [570.70381847],\n",
       "       [635.7319945 ],\n",
       "       [495.2247892 ],\n",
       "       [482.8286559 ],\n",
       "       [581.32789251],\n",
       "       [529.78012871],\n",
       "       [425.29257444],\n",
       "       [380.10209937],\n",
       "       [605.56662106],\n",
       "       [640.01267609],\n",
       "       [559.85265776],\n",
       "       [427.52456738],\n",
       "       [647.06138588],\n",
       "       [737.75827526],\n",
       "       [528.45485889],\n",
       "       [565.55469609],\n",
       "       [613.3000952 ],\n",
       "       [517.31120338],\n",
       "       [560.16004855],\n",
       "       [498.72429596],\n",
       "       [567.27197454],\n",
       "       [459.68050529],\n",
       "       [590.12191894],\n",
       "       [656.54691326],\n",
       "       [535.52000018],\n",
       "       [521.4120209 ],\n",
       "       [647.09780303],\n",
       "       [453.30800738],\n",
       "       [712.63923786],\n",
       "       [615.49012664],\n",
       "       [612.52918202],\n",
       "       [516.36786444],\n",
       "       [653.69049266],\n",
       "       [499.52337717],\n",
       "       [744.95411511],\n",
       "       [587.33245   ],\n",
       "       [591.67268415],\n",
       "       [356.97650972],\n",
       "       [352.77110819],\n",
       "       [609.02904618],\n",
       "       [610.9382779 ],\n",
       "       [588.25392313],\n",
       "       [689.06219279],\n",
       "       [383.53882984],\n",
       "       [419.00823141],\n",
       "       [643.22157678],\n",
       "       [489.95862245],\n",
       "       [555.77052238],\n",
       "       [402.21433143],\n",
       "       [367.23583553],\n",
       "       [445.66764916],\n",
       "       [337.37445746],\n",
       "       [388.51331683],\n",
       "       [501.70993549],\n",
       "       [675.44418115],\n",
       "       [570.41584877],\n",
       "       [517.17796439],\n",
       "       [585.58977191],\n",
       "       [476.99951796],\n",
       "       [524.44631075],\n",
       "       [642.13949224],\n",
       "       [643.33696914],\n",
       "       [583.8802072 ],\n",
       "       [467.54814761],\n",
       "       [567.52438764],\n",
       "       [736.11913808],\n",
       "       [625.8234129 ],\n",
       "       [620.64414591],\n",
       "       [393.08621678],\n",
       "       [588.4094648 ],\n",
       "       [300.10375202],\n",
       "       [450.09342578],\n",
       "       [758.97966521],\n",
       "       [480.18682659],\n",
       "       [778.60527914],\n",
       "       [513.17002312],\n",
       "       [347.30600204],\n",
       "       [451.44865788],\n",
       "       [551.45225266],\n",
       "       [359.63742591],\n",
       "       [540.11296551],\n",
       "       [565.60622759],\n",
       "       [454.03239603],\n",
       "       [699.07141688],\n",
       "       [505.38988176],\n",
       "       [376.27398354],\n",
       "       [354.2119906 ],\n",
       "       [422.66002749],\n",
       "       [605.29922052]])"
      ]
     },
     "execution_count": 13,
     "metadata": {},
     "output_type": "execute_result"
    }
   ],
   "source": [
    "A.reshape(100,1)"
   ]
  },
  {
   "cell_type": "code",
   "execution_count": 17,
   "metadata": {},
   "outputs": [
    {
     "data": {
      "text/plain": [
       "array([[565.66823929],\n",
       "       [530.95402921],\n",
       "       [581.05499773],\n",
       "       [698.95186561],\n",
       "       [500.98957517],\n",
       "       [567.31752596],\n",
       "       [401.82395386],\n",
       "       [656.18098676],\n",
       "       [638.85470684],\n",
       "       [590.72135809],\n",
       "       [592.22267927],\n",
       "       [570.70381847],\n",
       "       [635.7319945 ],\n",
       "       [495.2247892 ],\n",
       "       [482.8286559 ],\n",
       "       [581.32789251],\n",
       "       [529.78012871],\n",
       "       [425.29257444],\n",
       "       [380.10209937],\n",
       "       [605.56662106],\n",
       "       [640.01267609],\n",
       "       [559.85265776],\n",
       "       [427.52456738],\n",
       "       [647.06138588],\n",
       "       [737.75827526],\n",
       "       [528.45485889],\n",
       "       [565.55469609],\n",
       "       [613.3000952 ],\n",
       "       [517.31120338],\n",
       "       [560.16004855],\n",
       "       [498.72429596],\n",
       "       [567.27197454],\n",
       "       [459.68050529],\n",
       "       [590.12191894],\n",
       "       [656.54691326],\n",
       "       [535.52000018],\n",
       "       [521.4120209 ],\n",
       "       [647.09780303],\n",
       "       [453.30800738],\n",
       "       [712.63923786],\n",
       "       [615.49012664],\n",
       "       [612.52918202],\n",
       "       [516.36786444],\n",
       "       [653.69049266],\n",
       "       [499.52337717],\n",
       "       [744.95411511],\n",
       "       [587.33245   ],\n",
       "       [591.67268415],\n",
       "       [356.97650972],\n",
       "       [352.77110819],\n",
       "       [609.02904618],\n",
       "       [610.9382779 ],\n",
       "       [588.25392313],\n",
       "       [689.06219279],\n",
       "       [383.53882984],\n",
       "       [419.00823141],\n",
       "       [643.22157678],\n",
       "       [489.95862245],\n",
       "       [555.77052238],\n",
       "       [402.21433143],\n",
       "       [367.23583553],\n",
       "       [445.66764916],\n",
       "       [337.37445746],\n",
       "       [388.51331683],\n",
       "       [501.70993549],\n",
       "       [675.44418115],\n",
       "       [570.41584877],\n",
       "       [517.17796439],\n",
       "       [585.58977191],\n",
       "       [476.99951796],\n",
       "       [524.44631075],\n",
       "       [642.13949224],\n",
       "       [643.33696914],\n",
       "       [583.8802072 ],\n",
       "       [467.54814761],\n",
       "       [567.52438764],\n",
       "       [736.11913808],\n",
       "       [625.8234129 ],\n",
       "       [620.64414591],\n",
       "       [393.08621678],\n",
       "       [588.4094648 ],\n",
       "       [300.10375202],\n",
       "       [450.09342578],\n",
       "       [758.97966521],\n",
       "       [480.18682659],\n",
       "       [778.60527914],\n",
       "       [513.17002312],\n",
       "       [347.30600204],\n",
       "       [451.44865788],\n",
       "       [551.45225266],\n",
       "       [359.63742591],\n",
       "       [540.11296551],\n",
       "       [565.60622759],\n",
       "       [454.03239603],\n",
       "       [699.07141688],\n",
       "       [505.38988176],\n",
       "       [376.27398354],\n",
       "       [354.2119906 ],\n",
       "       [422.66002749],\n",
       "       [605.29922052]])"
      ]
     },
     "execution_count": 17,
     "metadata": {},
     "output_type": "execute_result"
    }
   ],
   "source": [
    "A = A.reshape(100,1)\n",
    "A"
   ]
  },
  {
   "cell_type": "code",
   "execution_count": 18,
   "metadata": {},
   "outputs": [],
   "source": [
    "xy = [[x,y] for x in range(10) for y in range(5)]"
   ]
  },
  {
   "cell_type": "code",
   "execution_count": 22,
   "metadata": {},
   "outputs": [
    {
     "data": {
      "text/plain": [
       "array([[0, 0],\n",
       "       [0, 1],\n",
       "       [0, 2],\n",
       "       [0, 3],\n",
       "       [0, 4],\n",
       "       [1, 0],\n",
       "       [1, 1],\n",
       "       [1, 2],\n",
       "       [1, 3],\n",
       "       [1, 4],\n",
       "       [2, 0],\n",
       "       [2, 1],\n",
       "       [2, 2],\n",
       "       [2, 3],\n",
       "       [2, 4],\n",
       "       [3, 0],\n",
       "       [3, 1],\n",
       "       [3, 2],\n",
       "       [3, 3],\n",
       "       [3, 4],\n",
       "       [4, 0],\n",
       "       [4, 1],\n",
       "       [4, 2],\n",
       "       [4, 3],\n",
       "       [4, 4],\n",
       "       [5, 0],\n",
       "       [5, 1],\n",
       "       [5, 2],\n",
       "       [5, 3],\n",
       "       [5, 4],\n",
       "       [6, 0],\n",
       "       [6, 1],\n",
       "       [6, 2],\n",
       "       [6, 3],\n",
       "       [6, 4],\n",
       "       [7, 0],\n",
       "       [7, 1],\n",
       "       [7, 2],\n",
       "       [7, 3],\n",
       "       [7, 4],\n",
       "       [8, 0],\n",
       "       [8, 1],\n",
       "       [8, 2],\n",
       "       [8, 3],\n",
       "       [8, 4],\n",
       "       [9, 0],\n",
       "       [9, 1],\n",
       "       [9, 2],\n",
       "       [9, 3],\n",
       "       [9, 4]])"
      ]
     },
     "execution_count": 22,
     "metadata": {},
     "output_type": "execute_result"
    }
   ],
   "source": [
    "xy = np.array(xy)\n",
    "xy"
   ]
  },
  {
   "cell_type": "code",
   "execution_count": 23,
   "metadata": {},
   "outputs": [
    {
     "data": {
      "text/plain": [
       "array([0., 0., 0., 0., 0., 0., 0., 0., 0., 0.])"
      ]
     },
     "execution_count": 23,
     "metadata": {},
     "output_type": "execute_result"
    }
   ],
   "source": [
    "np.zeros(10)"
   ]
  },
  {
   "cell_type": "code",
   "execution_count": 25,
   "metadata": {},
   "outputs": [
    {
     "data": {
      "text/plain": [
       "array([[0., 0., 0., 0.],\n",
       "       [0., 0., 0., 0.],\n",
       "       [0., 0., 0., 0.]])"
      ]
     },
     "execution_count": 25,
     "metadata": {},
     "output_type": "execute_result"
    }
   ],
   "source": [
    "np.zeros((3,4))"
   ]
  },
  {
   "cell_type": "code",
   "execution_count": 27,
   "metadata": {},
   "outputs": [
    {
     "data": {
      "text/plain": [
       "array([1., 1., 1., 1., 1.])"
      ]
     },
     "execution_count": 27,
     "metadata": {},
     "output_type": "execute_result"
    }
   ],
   "source": [
    "np.ones(5)"
   ]
  },
  {
   "cell_type": "code",
   "execution_count": 28,
   "metadata": {},
   "outputs": [
    {
     "data": {
      "text/plain": [
       "array([[1., 0., 0., 0., 0.],\n",
       "       [0., 1., 0., 0., 0.],\n",
       "       [0., 0., 1., 0., 0.],\n",
       "       [0., 0., 0., 1., 0.],\n",
       "       [0., 0., 0., 0., 1.]])"
      ]
     },
     "execution_count": 28,
     "metadata": {},
     "output_type": "execute_result"
    }
   ],
   "source": [
    "np.eye(5)"
   ]
  },
  {
   "cell_type": "code",
   "execution_count": 29,
   "metadata": {},
   "outputs": [
    {
     "data": {
      "text/plain": [
       "array([0.70537814, 0.85356528, 0.06485278, 0.06955828, 0.73259799,\n",
       "       0.96340415, 0.63647979, 0.97345036, 0.43860961, 0.64132993,\n",
       "       0.57758687, 0.4149991 , 0.60465537, 0.72774547, 0.62229186,\n",
       "       0.51291658, 0.11929718, 0.00854896, 0.73557568, 0.05452941,\n",
       "       0.08527359, 0.42178439, 0.43777224, 0.05001057, 0.07531112,\n",
       "       0.5188251 , 0.22218913, 0.81266617, 0.24899605, 0.60309938,\n",
       "       0.96419779, 0.27536968, 0.39559421, 0.31336001, 0.12786908,\n",
       "       0.38164782, 0.25416733, 0.62699637, 0.47506305, 0.57911747,\n",
       "       0.72202111, 0.96980774, 0.50887575, 0.49377068, 0.23099533,\n",
       "       0.03165746, 0.53148923, 0.83528553, 0.18495691, 0.69554028])"
      ]
     },
     "execution_count": 29,
     "metadata": {},
     "output_type": "execute_result"
    }
   ],
   "source": [
    "y = np.random.rand(50)\n",
    "y"
   ]
  },
  {
   "cell_type": "code",
   "execution_count": 31,
   "metadata": {},
   "outputs": [
    {
     "data": {
      "text/plain": [
       "[<matplotlib.lines.Line2D at 0x19717fb4908>]"
      ]
     },
     "execution_count": 31,
     "metadata": {},
     "output_type": "execute_result"
    },
    {
     "data": {
      "image/png": "[encoded data removed]",
      "text/plain": [
       "<Figure size 432x288 with 1 Axes>"
      ]
     },
     "metadata": {
      "needs_background": "light"
     },
     "output_type": "display_data"
    }
   ],
   "source": [
    "plt.plot(y)"
   ]
  },
  {
   "cell_type": "code",
   "execution_count": 33,
   "metadata": {},
   "outputs": [
    {
     "data": {
      "text/plain": [
       "array([ 0.        ,  0.1010101 ,  0.2020202 ,  0.3030303 ,  0.4040404 ,\n",
       "        0.50505051,  0.60606061,  0.70707071,  0.80808081,  0.90909091,\n",
       "        1.01010101,  1.11111111,  1.21212121,  1.31313131,  1.41414141,\n",
       "        1.51515152,  1.61616162,  1.71717172,  1.81818182,  1.91919192,\n",
       "        2.02020202,  2.12121212,  2.22222222,  2.32323232,  2.42424242,\n",
       "        2.52525253,  2.62626263,  2.72727273,  2.82828283,  2.92929293,\n",
       "        3.03030303,  3.13131313,  3.23232323,  3.33333333,  3.43434343,\n",
       "        3.53535354,  3.63636364,  3.73737374,  3.83838384,  3.93939394,\n",
       "        4.04040404,  4.14141414,  4.24242424,  4.34343434,  4.44444444,\n",
       "        4.54545455,  4.64646465,  4.74747475,  4.84848485,  4.94949495,\n",
       "        5.05050505,  5.15151515,  5.25252525,  5.35353535,  5.45454545,\n",
       "        5.55555556,  5.65656566,  5.75757576,  5.85858586,  5.95959596,\n",
       "        6.06060606,  6.16161616,  6.26262626,  6.36363636,  6.46464646,\n",
       "        6.56565657,  6.66666667,  6.76767677,  6.86868687,  6.96969697,\n",
       "        7.07070707,  7.17171717,  7.27272727,  7.37373737,  7.47474747,\n",
       "        7.57575758,  7.67676768,  7.77777778,  7.87878788,  7.97979798,\n",
       "        8.08080808,  8.18181818,  8.28282828,  8.38383838,  8.48484848,\n",
       "        8.58585859,  8.68686869,  8.78787879,  8.88888889,  8.98989899,\n",
       "        9.09090909,  9.19191919,  9.29292929,  9.39393939,  9.49494949,\n",
       "        9.5959596 ,  9.6969697 ,  9.7979798 ,  9.8989899 , 10.        ])"
      ]
     },
     "execution_count": 33,
     "metadata": {},
     "output_type": "execute_result"
    }
   ],
   "source": [
    "x = np.linspace(0, 10, 100)      #0-100描，取100個點\n",
    "x"
   ]
  },
  {
   "cell_type": "code",
   "execution_count": 34,
   "metadata": {},
   "outputs": [
    {
     "data": {
      "text/plain": [
       "[<matplotlib.lines.Line2D at 0x19718b73c08>]"
      ]
     },
     "execution_count": 34,
     "metadata": {},
     "output_type": "execute_result"
    },
    {
     "data": {
      "image/png": "[encoded data removed]",
      "text/plain": [
       "<Figure size 432x288 with 1 Axes>"
      ]
     },
     "metadata": {
      "needs_background": "light"
     },
     "output_type": "display_data"
    }
   ],
   "source": [
    "plt.plot(x,np.sin(x))"
   ]
  },
  {
   "cell_type": "code",
   "execution_count": 35,
   "metadata": {},
   "outputs": [
    {
     "data": {
      "text/plain": [
       "[<matplotlib.lines.Line2D at 0x19718be3088>]"
      ]
     },
     "execution_count": 35,
     "metadata": {},
     "output_type": "execute_result"
    },
    {
     "data": {
      "image/png": "[encoded data removed]",
      "text/plain": [
       "<Figure size 432x288 with 1 Axes>"
      ]
     },
     "metadata": {
      "needs_background": "light"
     },
     "output_type": "display_data"
    }
   ],
   "source": [
    "plt.plot(x,np.sin(x))\n",
    "plt.plot(x,np.cos(x))"
   ]
  },
  {
   "cell_type": "code",
   "execution_count": 36,
   "metadata": {},
   "outputs": [],
   "source": [
    "L = np.array([3,4,5,-11,333, -55, 60])"
   ]
  },
  {
   "cell_type": "code",
   "execution_count": 37,
   "metadata": {},
   "outputs": [
    {
     "name": "stdout",
     "output_type": "stream",
     "text": [
      "-11\n",
      "-55\n"
     ]
    }
   ],
   "source": [
    "for i in L:\n",
    "    if i < 0:\n",
    "        print(i)\n",
    "    "
   ]
  },
  {
   "cell_type": "code",
   "execution_count": 38,
   "metadata": {},
   "outputs": [
    {
     "data": {
      "text/plain": [
       "array([False, False, False,  True, False,  True, False])"
      ]
     },
     "execution_count": 38,
     "metadata": {},
     "output_type": "execute_result"
    }
   ],
   "source": [
    "L<0"
   ]
  },
  {
   "cell_type": "code",
   "execution_count": 39,
   "metadata": {},
   "outputs": [
    {
     "data": {
      "text/plain": [
       "array([-11, -55])"
      ]
     },
     "execution_count": 39,
     "metadata": {},
     "output_type": "execute_result"
    }
   ],
   "source": [
    "L[L<0]"
   ]
  },
  {
   "cell_type": "code",
   "execution_count": 42,
   "metadata": {},
   "outputs": [
    {
     "data": {
      "text/plain": [
       "[<matplotlib.lines.Line2D at 0x19718c5b6c8>]"
      ]
     },
     "execution_count": 42,
     "metadata": {},
     "output_type": "execute_result"
    },
    {
     "data": {
      "image/png": "[encoded data removed]",
      "text/plain": [
       "<Figure size 432x288 with 1 Axes>"
      ]
     },
     "metadata": {
      "needs_background": "light"
     },
     "output_type": "display_data"
    }
   ],
   "source": [
    "x = np.linspace(-5,5,200)\n",
    "y = np.sinc(x)\n",
    "plt.plot(x,y)"
   ]
  },
  {
   "cell_type": "code",
   "execution_count": 43,
   "metadata": {},
   "outputs": [
    {
     "data": {
      "text/plain": [
       "[<matplotlib.lines.Line2D at 0x19718ca9c08>]"
      ]
     },
     "execution_count": 43,
     "metadata": {},
     "output_type": "execute_result"
    },
    {
     "data": {
      "image/png": "[encoded data removed]",
      "text/plain": [
       "<Figure size 432x288 with 1 Axes>"
      ]
     },
     "metadata": {
      "needs_background": "light"
     },
     "output_type": "display_data"
    }
   ],
   "source": [
    "plt.plot(x,y)\n",
    "plt.plot(x[y>0],y[y>0], 'o')     #用o把正的標出來"
   ]
  },
  {
   "cell_type": "code",
   "execution_count": null,
   "metadata": {},
   "outputs": [],
   "source": []
  }
 ],
 "metadata": {
  "kernelspec": {
   "display_name": "Python 3",
   "language": "python",
   "name": "python3"
  },
  "language_info": {
   "codemirror_mode": {
    "name": "ipython",
    "version": 3
   },
   "file_extension": ".py",
   "mimetype": "text/x-python",
   "name": "python",
   "nbconvert_exporter": "python",
   "pygments_lexer": "ipython3",
   "version": "3.7.4"
  }
 },
 "nbformat": 4,
 "nbformat_minor": 2
}
